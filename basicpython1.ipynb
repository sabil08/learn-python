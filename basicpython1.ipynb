{
  "nbformat": 4,
  "nbformat_minor": 0,
  "metadata": {
    "colab": {
      "name": "basicpython1.ipynb",
      "provenance": [],
      "collapsed_sections": [],
      "authorship_tag": "ABX9TyPa5odadYrdS3/50/mhZFiW",
      "include_colab_link": true
    },
    "kernelspec": {
      "name": "python3",
      "display_name": "Python 3"
    }
  },
  "cells": [
    {
      "cell_type": "markdown",
      "metadata": {
        "id": "view-in-github",
        "colab_type": "text"
      },
      "source": [
        "<a href=\"https://colab.research.google.com/github/sabil08/learn-python/blob/main/basicpython1.ipynb\" target=\"_parent\"><img src=\"https://colab.research.google.com/assets/colab-badge.svg\" alt=\"Open In Colab\"/></a>"
      ]
    },
    {
      "cell_type": "markdown",
      "metadata": {
        "id": "pcZLLAadE0l1"
      },
      "source": [
        "#Basic Python"
      ]
    },
    {
      "cell_type": "markdown",
      "metadata": {
        "id": "TBuWAcIyF2c2"
      },
      "source": [
        "###Text"
      ]
    },
    {
      "cell_type": "code",
      "metadata": {
        "colab": {
          "base_uri": "https://localhost:8080/"
        },
        "id": "fiPb69JgEy7C",
        "outputId": "475d5573-aea4-4c8b-f2be-bfbd2b5a533e"
      },
      "source": [
        "print(\"this is a relly long line of text that will\"+\n",
        "      \"appear on multiple lines in  the source code file.\")"
      ],
      "execution_count": null,
      "outputs": [
        {
          "output_type": "stream",
          "text": [
            "this is a relly long line of text that willappear on multiple lines in  the source code file\n"
          ],
          "name": "stdout"
        }
      ]
    },
    {
      "cell_type": "code",
      "metadata": {
        "colab": {
          "base_uri": "https://localhost:8080/",
          "height": 52
        },
        "id": "1n4p3D47F-Q4",
        "outputId": "bd8fd6c4-079d-45f4-dba6-cac399dd0867"
      },
      "source": [
        "#memberikan catatan\n",
        "print(\"Untuk memberikan catatan bisa menggunakan tanda'#'\")\n",
        "'coba saja'"
      ],
      "execution_count": null,
      "outputs": [
        {
          "output_type": "stream",
          "text": [
            "Untuk memberikan catatan bisa menggunakan tanda'#'\n"
          ],
          "name": "stdout"
        },
        {
          "output_type": "execute_result",
          "data": {
            "application/vnd.google.colaboratory.intrinsic+json": {
              "type": "string"
            },
            "text/plain": [
              "'coba saja'"
            ]
          },
          "metadata": {
            "tags": []
          },
          "execution_count": 3
        }
      ]
    },
    {
      "cell_type": "code",
      "metadata": {
        "colab": {
          "base_uri": "https://localhost:8080/",
          "height": 69
        },
        "id": "x-7bm_DzGY9E",
        "outputId": "33f078ac-7a63-466f-baad-35b8e4ccfce0"
      },
      "source": [
        "\"\"\"\n",
        " Untuk memberikan catatan tambahan dengan baris yang banyak tanpa menggunakan '#'\n",
        " bisa menggunakan 3 kutip atas dan 3 kutip bawah\n",
        " Application: Comments.py\n",
        " Written by: sabil\n",
        " Purpose: Shows how to use comments.\n",
        "\"\"\""
      ],
      "execution_count": null,
      "outputs": [
        {
          "output_type": "execute_result",
          "data": {
            "application/vnd.google.colaboratory.intrinsic+json": {
              "type": "string"
            },
            "text/plain": [
              "\"\\n Untuk memberikan catatan tambahan dengan baris yang banyak tanpa menggunakan '#'\\n bisa menggunakan 3 kutip atas dan 3 kutip bawah\\n Application: Comments.py\\n Written by: sabil\\n Purpose: Shows how to use comments.\\n\""
            ]
          },
          "metadata": {
            "tags": []
          },
          "execution_count": 4
        }
      ]
    },
    {
      "cell_type": "code",
      "metadata": {
        "colab": {
          "base_uri": "https://localhost:8080/"
        },
        "id": "4hxnRFTVHysi",
        "outputId": "4db2f8c3-e9f4-48be-8503-026ba3e648ea"
      },
      "source": [
        "print(\"make code\") #membuat note setelah sintaks"
      ],
      "execution_count": null,
      "outputs": [
        {
          "output_type": "stream",
          "text": [
            "make code\n"
          ],
          "name": "stdout"
        }
      ]
    },
    {
      "cell_type": "markdown",
      "metadata": {
        "id": "g1csqqtBIT9K"
      },
      "source": [
        "###Function\n",
        "Fungsi adalah blok kode yang terorganisir dengan baik sehingga suatu saat kita dapat menggunakan nya kembali(reusable).\n",
        "\n",
        "def merupakan keyword yang digunakan untuk menyatakan suatu fungsi pada python.\n",
        "\n",
        "def nama_fungsi(parameter):\n",
        "  - Argumen\n",
        "\n",
        "\n",
        "\n",
        "\n"
      ]
    },
    {
      "cell_type": "code",
      "metadata": {
        "id": "lpcvTh8pIW73"
      },
      "source": [
        "def Hello():\n",
        "  print(\"this is my first python function!\")"
      ],
      "execution_count": null,
      "outputs": []
    },
    {
      "cell_type": "code",
      "metadata": {
        "colab": {
          "base_uri": "https://localhost:8080/"
        },
        "id": "eQYKQhKrfEw2",
        "outputId": "8171fe33-e902-425a-9fbd-eed4d1859e54"
      },
      "source": [
        "Hello()"
      ],
      "execution_count": null,
      "outputs": [
        {
          "output_type": "stream",
          "text": [
            "this is my first python function!\n"
          ],
          "name": "stdout"
        }
      ]
    },
    {
      "cell_type": "code",
      "metadata": {
        "colab": {
          "base_uri": "https://localhost:8080/"
        },
        "id": "9VDqaE5IdzQl",
        "outputId": "2488a210-3b2a-4c71-f0a3-4da6495ec250"
      },
      "source": [
        "def Hello3(sebut = \"tidak ada isi\"):\n",
        "  print(sebut)\n",
        "\n",
        "Hello3(25)"
      ],
      "execution_count": null,
      "outputs": [
        {
          "output_type": "stream",
          "text": [
            "25\n"
          ],
          "name": "stdout"
        }
      ]
    },
    {
      "cell_type": "code",
      "metadata": {
        "id": "7zLe4O7Xf3-H"
      },
      "source": [
        "# Program menghitung hasil faktorial \n",
        "hasil_faktorial = 1 \n",
        "n = 4 \n",
        "for i in range(1,n+1): \n",
        "\thasil_faktorial *= i \n",
        "print(hasil_faktorial) \n",
        "\n",
        "\n",
        "def factorial(n): \n",
        "\thasil = 1 \n",
        "\tfor i in range(1,n+1): \n",
        "\t\thasil *= i \n",
        "\treturn hasil \n",
        "print(factorial(6)) "
      ],
      "execution_count": null,
      "outputs": []
    },
    {
      "cell_type": "code",
      "metadata": {
        "colab": {
          "base_uri": "https://localhost:8080/"
        },
        "id": "ulUQdx1HbM2T",
        "outputId": "625d7553-aa39-4946-b94e-4bbf0719e567"
      },
      "source": [
        "def penambahan(value1,value2):\n",
        "  return value1 + value2\n",
        "\n",
        "print (\"jumlah 3 + 4 adalah\", penambahan(3,4))"
      ],
      "execution_count": null,
      "outputs": [
        {
          "output_type": "stream",
          "text": [
            "jumlah 3 + 4 adalah 7\n"
          ],
          "name": "stdout"
        }
      ]
    },
    {
      "cell_type": "code",
      "metadata": {
        "colab": {
          "base_uri": "https://localhost:8080/"
        },
        "id": "tstoiyhDcA0q",
        "outputId": "a9220e1d-e436-487d-e665-e08fc5dac6dd"
      },
      "source": [
        "def penambahan2 (value1,value2):\n",
        "  print(value1, \" + \", value2, \" = \", (value1+value2))\n",
        "\n",
        "penambahan2(215,312)\n"
      ],
      "execution_count": null,
      "outputs": [
        {
          "output_type": "stream",
          "text": [
            "215  +  312  =  527\n"
          ],
          "name": "stdout"
        }
      ]
    },
    {
      "cell_type": "code",
      "metadata": {
        "colab": {
          "base_uri": "https://localhost:8080/"
        },
        "id": "KJRR8vHlayci",
        "outputId": "39a135ae-00ef-4253-de6f-1d01da127a3f"
      },
      "source": [
        "#input\n",
        "nama=input(\"tell me your name:\")\n",
        "print(\"hello\",nama)"
      ],
      "execution_count": null,
      "outputs": [
        {
          "output_type": "stream",
          "text": [
            "tell me your name:sabil\n",
            "hello sabil\n"
          ],
          "name": "stdout"
        }
      ]
    },
    {
      "cell_type": "markdown",
      "metadata": {
        "id": "-LUpkvrbfESG"
      },
      "source": [
        "##IF statement"
      ]
    },
    {
      "cell_type": "code",
      "metadata": {
        "colab": {
          "base_uri": "https://localhost:8080/"
        },
        "id": "B2S7Pz0CfDww",
        "outputId": "e5336e6e-9806-41f3-c2de-5e55be361c29"
      },
      "source": [
        "if TestMe == 6:\n",
        "  print(\"TestMe does equal 6!\")\n",
        "\n",
        "TestMe=6"
      ],
      "execution_count": null,
      "outputs": [
        {
          "output_type": "stream",
          "text": [
            "TestMe does equal 6!\n"
          ],
          "name": "stdout"
        }
      ]
    },
    {
      "cell_type": "code",
      "metadata": {
        "colab": {
          "base_uri": "https://localhost:8080/"
        },
        "id": "zSlyG10FfySl",
        "outputId": "de867158-9421-472d-908e-5f49b1fcf21f"
      },
      "source": [
        "value = int(input(\"Type a number between 1 and 10: \"))\n",
        "if (value > 0) and (value <= 10):\n",
        "  print(\"You typed: \", value)"
      ],
      "execution_count": null,
      "outputs": [
        {
          "output_type": "stream",
          "text": [
            "Type a number between 1 and 10: 7\n",
            "You typed:  7\n"
          ],
          "name": "stdout"
        }
      ]
    },
    {
      "cell_type": "code",
      "metadata": {
        "colab": {
          "base_uri": "https://localhost:8080/"
        },
        "id": "KqJW6KJlgodP",
        "outputId": "7be321ed-e790-455f-cfcb-cb504927e711"
      },
      "source": [
        "print(\"1. Red\")\n",
        "print(\"2. Orange\")\n",
        "print(\"3. Yellow\")\n",
        "print(\"4. Green\")\n",
        "print(\"5. Blue\")\n",
        "print(\"6. Purple\")\n",
        "Choice = int(input(\"Select your favorite color: \"))\n",
        "if (Choice == 1):\n",
        "  print(\"You chose Red!\")\n",
        "elif (Choice == 2):\n",
        "  print(\"You chose Orange!\")\n",
        "elif (Choice == 3):\n",
        "  print(\"You chose Yellow!\")\n",
        "elif (Choice == 4):\n",
        "  print(\"You chose Green!\")\n",
        "elif (Choice == 5):\n",
        "  print(\"You chose Blue!\")\n",
        "elif (Choice == 6):\n",
        "  print(\"You chose Purple!\")\n",
        "else:\n",
        "  print(\"You made an invalid choice!\")"
      ],
      "execution_count": null,
      "outputs": [
        {
          "output_type": "stream",
          "text": [
            "1. Red\n",
            "2. Orange\n",
            "3. Yellow\n",
            "4. Green\n",
            "5. Blue\n",
            "6. Purple\n",
            "Select your favorite color: 3\n",
            "You chose Yellow!\n"
          ],
          "name": "stdout"
        }
      ]
    },
    {
      "cell_type": "code",
      "metadata": {
        "colab": {
          "base_uri": "https://localhost:8080/"
        },
        "id": "4UCdDqG5o8S4",
        "outputId": "278a6380-4897-4ef2-c78d-6e6eb7d633e9"
      },
      "source": [
        "print(int(2))\n",
        "print(int(2.3))\n",
        "print(float(9))\n",
        "print(float('9.2'))\n",
        "print(int('9'))\n",
        "print(int(float('9.1')))"
      ],
      "execution_count": null,
      "outputs": [
        {
          "output_type": "stream",
          "text": [
            "2\n",
            "2\n",
            "9.0\n",
            "9.2\n",
            "9\n",
            "9\n"
          ],
          "name": "stdout"
        }
      ]
    },
    {
      "cell_type": "code",
      "metadata": {
        "colab": {
          "base_uri": "https://localhost:8080/"
        },
        "id": "76XrIuE4oHmq",
        "outputId": "37ad2b25-941c-4fd1-8396-688f98ef9dd9"
      },
      "source": [
        "One = int(float(input(\"Type a number between 1 and 10: \")))\n",
        "Two = int(float(input(\"Type a number between 1 and 10: \")))\n",
        "if (One >= 1) and (One <= 10):\n",
        "  if (Two >= 1) and (Two <= 10):\n",
        "    print(\"Your secret number is: \", One * Two)\n",
        "  else:\n",
        "    print(\"Incorrect second value!\")\n",
        "else:\n",
        "  print(\"Incorrect first value!\")"
      ],
      "execution_count": null,
      "outputs": [
        {
          "output_type": "stream",
          "text": [
            "Type a number between 1 and 10: 3.5\n",
            "Type a number between 1 and 10: 7\n",
            "Your secret number is:  21\n"
          ],
          "name": "stdout"
        }
      ]
    },
    {
      "cell_type": "code",
      "metadata": {
        "colab": {
          "base_uri": "https://localhost:8080/"
        },
        "id": "3c--cSmtqjKu",
        "outputId": "8eab7eba-c815-41ed-a12f-8624de8326d3"
      },
      "source": [
        "print(\"1. Eggs\")\n",
        "print(\"2. Pancakes\")\n",
        "print(\"3. Waffles\")\n",
        "print(\"4. Oatmeal\")\n",
        "MainChoice = int(input(\"Choose a breakfast item: \"))\n",
        "if (MainChoice == 2):\n",
        "  Meal = \"Pancakes\"\n",
        "elif (MainChoice == 3):\n",
        "  Meal = \"Waffles\"\n",
        "if (MainChoice == 1):\n",
        "  print(\"1. Wheat Toast\")\n",
        "  print(\"2. Sour Dough\")\n",
        "  print(\"3. Rye Toast\")\n",
        "  print(\"4. Pancakes\")\n",
        "  Bread = int(input(\"Choose a type of bread: \"))\n",
        "  if (Bread == 1):\n",
        "    print(\"You chose eggs with wheat toast.\")\n",
        "  elif (Bread == 2):\n",
        "    print(\"You chose eggs with sour dough.\")\n",
        "  elif (Bread == 3):\n",
        "    print(\"You chose eggs with rye toast.\")\n",
        "  elif (Bread == 4):\n",
        "    print(\"You chose eggs with pancakes.\")\n",
        "  else:\n",
        "    print(\"We have eggs, but not that kind of bread.\")\n",
        " \n",
        "elif (MainChoice == 2) or (MainChoice == 3):\n",
        "  print(\"1. Syrup\")\n",
        "  print(\"2. Strawberries\")\n",
        "  print(\"3. Powdered Sugar\")\n",
        "  Topping = int(input(\"Choose a topping: \"))\n",
        "  if (Topping == 1):\n",
        "    print (\"You chose \" + Meal + \" with syrup.\")\n",
        "  elif (Topping == 2):\n",
        "    print (\"You chose \" + Meal + \" with strawberries.\")\n",
        "  elif (Topping == 3):\n",
        "    print (\"You chose \" + Meal + \" with powdered sugar.\")\n",
        "  else:\n",
        "    print (\"We have \" + Meal + \", but not that topping.\")\n",
        " \n",
        "elif (MainChoice == 4):\n",
        "  print(\"You chose oatmeal.\")\n",
        " \n",
        "else:\n",
        "  print(\"We don't serve that breakfast item!\")"
      ],
      "execution_count": null,
      "outputs": [
        {
          "output_type": "stream",
          "text": [
            "1. Eggs\n",
            "2. Pancakes\n",
            "3. Waffles\n",
            "4. Oatmeal\n",
            "Choose a breakfast item: 1\n",
            "1. Wheat Toast\n",
            "2. Sour Dough\n",
            "3. Rye Toast\n",
            "4. Pancakes\n",
            "Choose a type of bread: 4\n",
            "You chose eggs with pancakes.\n"
          ],
          "name": "stdout"
        }
      ]
    },
    {
      "cell_type": "markdown",
      "metadata": {
        "id": "FNZHYdQERdAt"
      },
      "source": [
        "#Number"
      ]
    },
    {
      "cell_type": "code",
      "metadata": {
        "colab": {
          "base_uri": "https://localhost:8080/"
        },
        "id": "KnizNhoSRgkM",
        "outputId": "e06656bb-ad45-4cc5-8267-a42340bedb4a"
      },
      "source": [
        "#ntegers\n",
        "\"\"\"\n",
        "b (bin()): Base 2, 0 dan 1\n",
        "o (oct()): Base 8, 0 sd 7\n",
        "denary   : base 10\n",
        "x (hex()): Base 16, 0 sd 9 dan A sd F\n",
        "\"\"\"\n",
        "A= -92233720368547758089\n",
        "B=9223372036854775807\n",
        "print(A)\n",
        "print(B)"
      ],
      "execution_count": null,
      "outputs": [
        {
          "output_type": "stream",
          "text": [
            "-92233720368547758089\n",
            "9223372036854775807\n"
          ],
          "name": "stdout"
        }
      ]
    },
    {
      "cell_type": "code",
      "metadata": {
        "colab": {
          "base_uri": "https://localhost:8080/"
        },
        "id": "4AWsOj0PTbNM",
        "outputId": "804365aa-340e-4cec-8814-17704d1a104f"
      },
      "source": [
        "coba=0o100\n",
        "test=100\n",
        "tryy=0x100\n",
        "print(coba)\n",
        "print(test)\n",
        "print(tryy) "
      ],
      "execution_count": null,
      "outputs": [
        {
          "output_type": "stream",
          "text": [
            "64\n",
            "100\n",
            "256\n"
          ],
          "name": "stdout"
        }
      ]
    },
    {
      "cell_type": "code",
      "metadata": {
        "colab": {
          "base_uri": "https://localhost:8080/"
        },
        "id": "Xtg_3FtcaWwE",
        "outputId": "7ff602fb-47a6-4f2e-c416-79ead1263109"
      },
      "source": [
        "binary = input(\"Input a number in binary:\")  \n",
        "denary = 0  \n",
        "for i in binary:  \n",
        "  #A left shift in binary means x2  \n",
        "  denary = denary*2 + int(i)  \n",
        "print(\"Your denary number is: \" + str(denary))\n",
        "#Denary to binary conversion  \n",
        "\n",
        " "
      ],
      "execution_count": null,
      "outputs": [
        {
          "output_type": "stream",
          "text": [
            "Input a number in binary:444\n",
            "Your denary number is: 28\n"
          ],
          "name": "stdout"
        }
      ]
    },
    {
      "cell_type": "code",
      "metadata": {
        "id": "CiCuVe04jxMZ"
      },
      "source": [
        "denary = int(input(\"Input a denary number:\"))  \n",
        "binary=\"\"  \n",
        "while denary>0:  \n",
        "  #A left shift in binary means /2  \n",
        "  binary = str(denary%2) + binary  \n",
        "  denary = denary//2  \n",
        "print(\"Your binary number is: \" + binary) "
      ],
      "execution_count": null,
      "outputs": []
    },
    {
      "cell_type": "code",
      "metadata": {
        "colab": {
          "base_uri": "https://localhost:8080/"
        },
        "id": "BqPys2jJa68N",
        "outputId": "b8205c55-94ad-4432-8cae-40800a5e8261"
      },
      "source": [
        "a=0b101\n",
        "print(a)\n",
        "0b10001"
      ],
      "execution_count": null,
      "outputs": [
        {
          "output_type": "stream",
          "text": [
            "5\n"
          ],
          "name": "stdout"
        },
        {
          "output_type": "execute_result",
          "data": {
            "text/plain": [
              "17"
            ]
          },
          "metadata": {
            "tags": []
          },
          "execution_count": 10
        }
      ]
    },
    {
      "cell_type": "code",
      "metadata": {
        "colab": {
          "base_uri": "https://localhost:8080/"
        },
        "id": "iwED5d9ZcVwe",
        "outputId": "ee590156-5404-4ae6-af84-f259c477b2a5"
      },
      "source": [
        "aku= input(\"aku cinta:\")"
      ],
      "execution_count": null,
      "outputs": [
        {
          "output_type": "stream",
          "text": [
            "aku cinta:kamu\n"
          ],
          "name": "stdout"
        }
      ]
    },
    {
      "cell_type": "code",
      "metadata": {
        "colab": {
          "base_uri": "https://localhost:8080/"
        },
        "id": "1vVrs6xpdfZy",
        "outputId": "46b26cc8-f414-494c-a769-81cf4718fdd7"
      },
      "source": [
        "10%2"
      ],
      "execution_count": null,
      "outputs": [
        {
          "output_type": "execute_result",
          "data": {
            "text/plain": [
              "0"
            ]
          },
          "metadata": {
            "tags": []
          },
          "execution_count": 22
        }
      ]
    },
    {
      "cell_type": "code",
      "metadata": {
        "colab": {
          "base_uri": "https://localhost:8080/"
        },
        "id": "XSzU_bIsdxNC",
        "outputId": "f818a344-9906-4c5b-dfe1-20834fab1928"
      },
      "source": [
        "11//2"
      ],
      "execution_count": null,
      "outputs": [
        {
          "output_type": "execute_result",
          "data": {
            "text/plain": [
              "5"
            ]
          },
          "metadata": {
            "tags": []
          },
          "execution_count": 26
        }
      ]
    },
    {
      "cell_type": "code",
      "metadata": {
        "colab": {
          "base_uri": "https://localhost:8080/"
        },
        "id": "xFlNqVy3iSzW",
        "outputId": "3359a5e3-7bb6-4bca-b3d9-4234dfaa8b24"
      },
      "source": [
        "bb=2.55e2\n",
        "cc=2.55e-2\n",
        "print(bb)\n",
        "cc"
      ],
      "execution_count": null,
      "outputs": [
        {
          "output_type": "stream",
          "text": [
            "255.0\n"
          ],
          "name": "stdout"
        },
        {
          "output_type": "execute_result",
          "data": {
            "text/plain": [
              "0.0255"
            ]
          },
          "metadata": {
            "tags": []
          },
          "execution_count": 27
        }
      ]
    },
    {
      "cell_type": "code",
      "metadata": {
        "colab": {
          "base_uri": "https://localhost:8080/"
        },
        "id": "DM0RhP0Tr1to",
        "outputId": "06d82c72-2f19-4cff-a907-da699b96fe64"
      },
      "source": [
        "#complex\n",
        "mxc=3+4j\n",
        "print(mxc)"
      ],
      "execution_count": null,
      "outputs": [
        {
          "output_type": "stream",
          "text": [
            "(3+4j)\n"
          ],
          "name": "stdout"
        }
      ]
    },
    {
      "cell_type": "code",
      "metadata": {
        "colab": {
          "base_uri": "https://localhost:8080/"
        },
        "id": "kwJD3E-SQvyv",
        "outputId": "f784e773-a5a3-49aa-e827-34d36e34475b"
      },
      "source": [
        "#mengubah huruf menjadi angka biner\n",
        "ord(\"A\")"
      ],
      "execution_count": null,
      "outputs": [
        {
          "output_type": "execute_result",
          "data": {
            "text/plain": [
              "65"
            ]
          },
          "metadata": {
            "tags": []
          },
          "execution_count": 1
        }
      ]
    },
    {
      "cell_type": "code",
      "metadata": {
        "colab": {
          "base_uri": "https://localhost:8080/"
        },
        "id": "tfcQcUbQRgES",
        "outputId": "a5829514-60b8-4256-f37a-a2f9f63c3d57"
      },
      "source": [
        "myint=int(\"123\")\n",
        "myint"
      ],
      "execution_count": null,
      "outputs": [
        {
          "output_type": "execute_result",
          "data": {
            "text/plain": [
              "123"
            ]
          },
          "metadata": {
            "tags": []
          },
          "execution_count": 2
        }
      ]
    },
    {
      "cell_type": "code",
      "metadata": {
        "colab": {
          "base_uri": "https://localhost:8080/"
        },
        "id": "frGZ-w5fRnqB",
        "outputId": "c78ead25-6dcc-4a1a-b0e0-4ed9f7017d54"
      },
      "source": [
        "type(myint)"
      ],
      "execution_count": null,
      "outputs": [
        {
          "output_type": "execute_result",
          "data": {
            "text/plain": [
              "int"
            ]
          },
          "metadata": {
            "tags": []
          },
          "execution_count": 3
        }
      ]
    },
    {
      "cell_type": "code",
      "metadata": {
        "colab": {
          "base_uri": "https://localhost:8080/",
          "height": 35
        },
        "id": "pJJ7Qu3ZRwNg",
        "outputId": "9c5683c8-7b98-4a55-a00b-97e11268eb5e"
      },
      "source": [
        "mystr=str(123.45)\n",
        "mystr"
      ],
      "execution_count": null,
      "outputs": [
        {
          "output_type": "execute_result",
          "data": {
            "application/vnd.google.colaboratory.intrinsic+json": {
              "type": "string"
            },
            "text/plain": [
              "'123.45'"
            ]
          },
          "metadata": {
            "tags": []
          },
          "execution_count": 5
        }
      ]
    },
    {
      "cell_type": "markdown",
      "metadata": {
        "id": "2mk35y6XSQLq"
      },
      "source": [
        "##Dates and Times"
      ]
    },
    {
      "cell_type": "code",
      "metadata": {
        "id": "BQOwnxI6SPkq"
      },
      "source": [
        "import datetime as dt"
      ],
      "execution_count": null,
      "outputs": []
    },
    {
      "cell_type": "code",
      "metadata": {
        "colab": {
          "base_uri": "https://localhost:8080/"
        },
        "id": "pLp6VTheSbRz",
        "outputId": "3dcf167c-82dd-4c1d-dab3-edb8f9244c56"
      },
      "source": [
        "dt.datetime.now()"
      ],
      "execution_count": null,
      "outputs": [
        {
          "output_type": "execute_result",
          "data": {
            "text/plain": [
              "datetime.datetime(2021, 3, 11, 3, 17, 51, 412521)"
            ]
          },
          "metadata": {
            "tags": []
          },
          "execution_count": 8
        }
      ]
    },
    {
      "cell_type": "code",
      "metadata": {
        "colab": {
          "base_uri": "https://localhost:8080/",
          "height": 35
        },
        "id": "gGq7fX3JSaWR",
        "outputId": "aadf338a-604a-4775-9f90-6bfc18861543"
      },
      "source": [
        " str(dt.datetime.now().date())"
      ],
      "execution_count": null,
      "outputs": [
        {
          "output_type": "execute_result",
          "data": {
            "application/vnd.google.colaboratory.intrinsic+json": {
              "type": "string"
            },
            "text/plain": [
              "'2021-03-11'"
            ]
          },
          "metadata": {
            "tags": []
          },
          "execution_count": 10
        }
      ]
    },
    {
      "cell_type": "code",
      "metadata": {
        "colab": {
          "base_uri": "https://localhost:8080/"
        },
        "id": "wTPfYbzzUcV5",
        "outputId": "be70b143-7a97-4f3e-e085-f836668343bd"
      },
      "source": [
        " print(str(dt.date(2021,3,11)))"
      ],
      "execution_count": null,
      "outputs": [
        {
          "output_type": "stream",
          "text": [
            "2021-03-11\n"
          ],
          "name": "stdout"
        }
      ]
    },
    {
      "cell_type": "code",
      "metadata": {
        "colab": {
          "base_uri": "https://localhost:8080/"
        },
        "id": "E5uikDkQVxYr",
        "outputId": "1415165d-e071-42d8-9835-cd2cbe842f10"
      },
      "source": [
        "print(dt.date(2021,3,11))\n",
        "dt.date(2021,3,11)"
      ],
      "execution_count": null,
      "outputs": [
        {
          "output_type": "stream",
          "text": [
            "2021-03-11\n"
          ],
          "name": "stdout"
        },
        {
          "output_type": "execute_result",
          "data": {
            "text/plain": [
              "datetime.date(2021, 3, 11)"
            ]
          },
          "metadata": {
            "tags": []
          },
          "execution_count": 20
        }
      ]
    },
    {
      "cell_type": "markdown",
      "metadata": {
        "id": "owuZM_fWXDX2"
      },
      "source": [
        "##Manage Information\n",
        "\n",
        "1. Unary\n",
        "2. Arithmetic\n",
        "3. Relational\n",
        "4. Logical\n",
        "5. Bitwise\n",
        "6. Assignment\n",
        "7. Membership\n",
        "8. Identity\n",
        "\n"
      ]
    },
    {
      "cell_type": "code",
      "metadata": {
        "colab": {
          "base_uri": "https://localhost:8080/"
        },
        "id": "12-WZ_uOWeSq",
        "outputId": "f984741e-6581-44ff-abf9-3e1ddaa4e198"
      },
      "source": [
        "#Unary adalah operator yang diberikan pada single variabel\n",
        "print(~4) # '~' merupakan operator pembalik dan mengurangkan 1 angka\n",
        "print(-4) # '-' operator negatif\n",
        "print(+4) # '+' operator positif"
      ],
      "execution_count": null,
      "outputs": [
        {
          "output_type": "stream",
          "text": [
            "-5\n",
            "-4\n",
            "4\n"
          ],
          "name": "stdout"
        }
      ]
    },
    {
      "cell_type": "code",
      "metadata": {
        "colab": {
          "base_uri": "https://localhost:8080/"
        },
        "id": "x2eJ_w_sdj5g",
        "outputId": "8a07fc41-55c0-4bd2-f1bb-3196900b4cb7"
      },
      "source": [
        "#Arithmatic adalah operasi antara 2 bilangan\n",
        "print(5+2)  # '+' operasi penjumlahan\n",
        "print(5-2)  # '-' operasi pengurangan\n",
        "print(5*2)  # '*' operasi perkalian\n",
        "print(5/2)  # '/' operasi pembagian\n",
        "print(5%2)  # '%' operasi modulo (sisa)\n",
        "print(5**2) # '**' operasi pangkat\n",
        "print(5//2) # '//' operasi pembagian dengan hasil dibulatkan"
      ],
      "execution_count": null,
      "outputs": [
        {
          "output_type": "stream",
          "text": [
            "7\n",
            "3\n",
            "10\n",
            "2.5\n",
            "1\n",
            "25\n",
            "2\n"
          ],
          "name": "stdout"
        }
      ]
    },
    {
      "cell_type": "code",
      "metadata": {
        "colab": {
          "base_uri": "https://localhost:8080/"
        },
        "id": "dW9YgC5Ce94_",
        "outputId": "b49a6e77-e7de-454b-eca2-2d164b04fa2c"
      },
      "source": [
        "#Relational adalah sebuah operator yang bertugas membandingkan satu nilai dengan nilai lainnya dan memberitahu ketika hubungan tersebut benar atau salah. \n",
        "#Misalnya, 1 kurang dari 2. Nilai kebenaran hubungan sering digunakan untuk membuat keputusan dalam aplikasi untuk memastikan bahwa kondisi untuk melakukan tugas tertentu terpenuhi\n",
        "\n",
        "print(1==2) # '==' operator sama dengan\n",
        "print(1!=2) # '!=' operator tidak sama dengan\n",
        "print(1>2)  # '>'  operator lebih dari\n",
        "print(1<2)  # '<'  operator kurang dari\n",
        "print(1>=2) # '>=' operator lebih dari atau sama dengan\n",
        "print(1<=2) # '<=' operator kurang dari atau sama dengan\n"
      ],
      "execution_count": null,
      "outputs": [
        {
          "output_type": "stream",
          "text": [
            "False\n",
            "True\n",
            "False\n",
            "True\n",
            "False\n",
            "True\n"
          ],
          "name": "stdout"
        }
      ]
    },
    {
      "cell_type": "code",
      "metadata": {
        "colab": {
          "base_uri": "https://localhost:8080/"
        },
        "id": "Mr9_IRDyirPh",
        "outputId": "1cb80920-ed9d-4e43-957e-0db4f09b751f"
      },
      "source": [
        "#Logical operator menggabungkan nilai variabel atau ekspresi yang benar atau salah sehingga dapat menentukan nilai kebenaran yang dihasilkan. \n",
        "#menggunakan operator logika untuk membuat ekspresi Boolean yang membantu menentukan apakah akan melakukan tugas.\n",
        "\n",
        "print( 1<=2 and 1!=2) # operator logical 'and' akan bernilai TRUE jika keduanya TRUE \n",
        "print( 1<=2 and 1==2)\n",
        "print( 1<=2 or 1!=2) # operator logical 'or' akan bernilai TRUE jika salah satunya TRUE \n",
        "print( 1>=2 or 2!=2)\n",
        "print( not 1!=2) # operator logical 'not' merupakan operator negasi \n",
        "print( not 1>=2)"
      ],
      "execution_count": null,
      "outputs": [
        {
          "output_type": "stream",
          "text": [
            "True\n",
            "False\n",
            "True\n",
            "False\n",
            "False\n",
            "True\n"
          ],
          "name": "stdout"
        }
      ]
    },
    {
      "cell_type": "code",
      "metadata": {
        "colab": {
          "base_uri": "https://localhost:8080/"
        },
        "id": "MbIX1iauHCVQ",
        "outputId": "08933f74-97a7-4d7b-bfbb-7f662356ddd5"
      },
      "source": [
        "#Assignment merupakan operator yang menempatkan data dalam variabel\n",
        "myvar =2\n",
        "print(myvar)\n",
        "myvar +=5\n",
        "print(myvar)\n",
        "myvar -=2\n",
        "print(myvar)\n",
        "myvar *=4\n",
        "print(myvar)\n",
        "myvar /=2\n",
        "print(myvar)\n",
        "myvar %=2\n",
        "print(myvar)\n",
        "myvar **=2\n",
        "print(myvar)\n",
        "myvar //=2\n",
        "print(myvar)\n"
      ],
      "execution_count": null,
      "outputs": [
        {
          "output_type": "stream",
          "text": [
            "2\n",
            "7\n",
            "5\n",
            "20\n",
            "10.0\n",
            "0.0\n",
            "0.0\n",
            "0.0\n"
          ],
          "name": "stdout"
        }
      ]
    },
    {
      "cell_type": "code",
      "metadata": {
        "colab": {
          "base_uri": "https://localhost:8080/"
        },
        "id": "kOivWDirKTLU",
        "outputId": "2152d7cd-30ad-4432-ceba-0cb4790e599c"
      },
      "source": [
        "#Membership merupakan operator yang mendeteksi kemunculan suatu nilai atau data\n",
        "print(\"hello\" in \"hello Goodbye\")\n",
        "print(\"hello\" not in \"hello Goodbye\")"
      ],
      "execution_count": null,
      "outputs": [
        {
          "output_type": "stream",
          "text": [
            "True\n",
            "False\n"
          ],
          "name": "stdout"
        }
      ]
    },
    {
      "cell_type": "code",
      "metadata": {
        "colab": {
          "base_uri": "https://localhost:8080/"
        },
        "id": "s2B4NRC4VDV_",
        "outputId": "56e506eb-bad4-4a4c-ef45-1f0e1f8ecf44"
      },
      "source": [
        "#identity merupakan operator yang menentukan apakah suatu nilai atau ekspresi pada class atauu type yang benar\n",
        "print(type(2) is int)\n",
        "print(type(2) is not int)"
      ],
      "execution_count": null,
      "outputs": [
        {
          "output_type": "stream",
          "text": [
            "True\n",
            "False\n"
          ],
          "name": "stdout"
        }
      ]
    },
    {
      "cell_type": "markdown",
      "metadata": {
        "id": "yRutusAH-u38"
      },
      "source": [
        "##Looping"
      ]
    },
    {
      "cell_type": "code",
      "metadata": {
        "id": "iBgOFfgWEyNX"
      },
      "source": [
        "#For looping\n",
        "nomor = 1\n",
        "for i in \"!\":\n",
        " print(\"huruf \", nomor, \" adalah \", i)\n",
        " nomor +=1"
      ],
      "execution_count": null,
      "outputs": []
    },
    {
      "cell_type": "code",
      "metadata": {
        "id": "3wOnkNR4Kubk"
      },
      "source": [
        "Value = input(\"Type less than 6 characters: \")\n",
        "LetterNum = 1\n",
        "for Letter in Value:\n",
        " print(\"Letter \", LetterNum, \" is \", Letter)\n",
        " LetterNum+=1\n",
        " if LetterNum > 6:\n",
        "   print(\"The string is too long!\")\n",
        "   break"
      ],
      "execution_count": null,
      "outputs": []
    },
    {
      "cell_type": "code",
      "metadata": {
        "colab": {
          "base_uri": "https://localhost:8080/"
        },
        "id": "RYqNxf1-yPOV",
        "outputId": "26f9794a-0534-4d5f-a915-2d2545db9d9c"
      },
      "source": [
        "LetterNum = 1\n",
        "for Letter in \"Howdy!\":\n",
        " if Letter == \"w\":\n",
        "   print(\"Encountered w, not processed.\")\n",
        "   continue\n",
        " print(\"Letter \", LetterNum, \" is \", Letter)\n",
        " LetterNum+=1"
      ],
      "execution_count": null,
      "outputs": [
        {
          "output_type": "stream",
          "text": [
            "Letter  1  is  H\n",
            "Letter  2  is  o\n",
            "Encountered w, not processed.\n",
            "Letter  3  is  d\n",
            "Letter  4  is  y\n",
            "Letter  5  is  !\n"
          ],
          "name": "stdout"
        }
      ]
    },
    {
      "cell_type": "code",
      "metadata": {
        "id": "oqbSCKZzzXxk"
      },
      "source": [
        "LetterNum = 1\n",
        "for Letter in \"Howdy!\":\n",
        " if Letter == \"w\":\n",
        "  pass\n",
        "  print(\"Encountered w, not processed.\")\n",
        " print(\"Letter \", LetterNum, \" is \", Letter)\n",
        " LetterNum+=1"
      ],
      "execution_count": null,
      "outputs": []
    },
    {
      "cell_type": "code",
      "metadata": {
        "id": "kbanQPGk0IcX"
      },
      "source": [
        "Value = input(\"Type less than 6 characters: \")\n",
        "LetterNum = 1\n",
        "for Letter in Value:\n",
        " print(\"Letter \", LetterNum, \" is \", Letter)\n",
        " LetterNum+=1\n",
        "else:\n",
        " print(\"The string is blank.\")"
      ],
      "execution_count": null,
      "outputs": []
    },
    {
      "cell_type": "code",
      "metadata": {
        "id": "PT6IWdhh01lc"
      },
      "source": [
        "Sum = 0\n",
        "while Sum < 5:\n",
        " print(Sum)\n",
        " Sum+=1"
      ],
      "execution_count": null,
      "outputs": []
    },
    {
      "cell_type": "code",
      "metadata": {
        "id": "jpL_Rbpk1Lyn"
      },
      "source": [
        "X = 1\n",
        "Y = 1\n",
        "print ('{:>4}'.format(' '), end= ' ')\n",
        "for X in range(1, 11):\n",
        " print('{:>4}'.format(X), end=' ')\n",
        " \n",
        "print()\n",
        " \n",
        "for X in range(1,11):\n",
        " print('{:>4}'.format(X), end=' ')\n",
        " while Y <= 10:\n",
        "  print('{:>4}'.format(X * Y), end=' ')\n",
        "  Y+=1\n",
        " print()\n",
        " Y=1"
      ],
      "execution_count": null,
      "outputs": []
    },
    {
      "cell_type": "code",
      "metadata": {
        "colab": {
          "base_uri": "https://localhost:8080/"
        },
        "id": "lsXLtFCR18WX",
        "outputId": "ffb0db1d-48d1-4024-e270-09279d2be160"
      },
      "source": [
        "try:\n",
        "   Value = int(input(\"Type a number between 1 and 10:\"))\n",
        "except ValueError:\n",
        " print(\"You must type a number between 1 and 10!\")\n",
        "else:\n",
        " if (Value > 0) and (Value <= 10):\n",
        "  print(\"You typed: \", Value)\n",
        " else:\n",
        "   print(\"The value you typed is incorrect!\")"
      ],
      "execution_count": null,
      "outputs": [
        {
          "output_type": "stream",
          "text": [
            "Type a number between 1 and 10:10.1\n",
            "You must type a number between 1 and 10!\n"
          ],
          "name": "stdout"
        }
      ]
    },
    {
      "cell_type": "code",
      "metadata": {
        "id": "R9NgTzR2-z4H"
      },
      "source": [
        "while True: \n",
        "\tangka = input('Masukkan angka: ') \n",
        "\thasil = 30 - int(angka) \n",
        "\tprint(hasil) "
      ],
      "execution_count": null,
      "outputs": []
    },
    {
      "cell_type": "code",
      "metadata": {
        "id": "Vc1iC4ep_HFO"
      },
      "source": [
        "import random as rd \n",
        " \n",
        "kelas = [ \n",
        "'Bambang', 'Siti','Lala', 'Feby', 'Kurma' \n",
        "] \n",
        " \n",
        "angka = [] \n",
        "for num in range (0, len(kelas)): angka.append(num) \n",
        " \n",
        "total = int(input(\" Berapa Kelompok : \")) \n",
        "kel = [] \n",
        "for x in range(total): \n",
        "    sub= [] \n",
        "    kel.append(sub) \n",
        " \n",
        "count = 0 \n",
        "while len(angka) > 0: \n",
        " \n",
        "    acak = rd.randint(0, len(angka)-1) \n",
        "    hasil = angka[acak] \n",
        "    del (angka[acak]) \n",
        " \n",
        "    kel[count].append(kelas[hasil]) \n",
        "    if count == len(kel)-1:  \n",
        "        count = 0 \n",
        "    else:  \n",
        "        count+=1 \n",
        " \n",
        "nm = total-1 \n",
        "for kel_sub in kel: \n",
        "    print(\"\\n\") \n",
        "    print(f\".:Kelompok {total-nm}:.\") \n",
        "    for name in kel_sub: \n",
        "        print(f\"{name}\") \n",
        "    nm = nm - 1 "
      ],
      "execution_count": null,
      "outputs": []
    },
    {
      "cell_type": "code",
      "metadata": {
        "id": "GRybQEuQHnGe"
      },
      "source": [
        ""
      ],
      "execution_count": null,
      "outputs": []
    },
    {
      "cell_type": "markdown",
      "metadata": {
        "id": "WXnDwIjLHm6E"
      },
      "source": [
        ""
      ]
    },
    {
      "cell_type": "code",
      "metadata": {
        "id": "Qaau8fcnHmtM"
      },
      "source": [
        ""
      ],
      "execution_count": null,
      "outputs": []
    },
    {
      "cell_type": "code",
      "metadata": {
        "id": "0Y5xznEFHmc-"
      },
      "source": [
        "x = 5\n",
        "y = 7\n",
        "if x > 5:\n",
        " x += 1\n",
        " y = 8"
      ],
      "execution_count": null,
      "outputs": []
    },
    {
      "cell_type": "code",
      "metadata": {
        "colab": {
          "base_uri": "https://localhost:8080/"
        },
        "id": "tLLfDoBTXkKL",
        "outputId": "fe89d582-6f67-4ea2-bc9d-3fc9e488e0d7"
      },
      "source": [
        "a = 5\n",
        "isinstance(a, int)\n"
      ],
      "execution_count": null,
      "outputs": [
        {
          "output_type": "execute_result",
          "data": {
            "text/plain": [
              "True"
            ]
          },
          "metadata": {
            "tags": []
          },
          "execution_count": 8
        }
      ]
    },
    {
      "cell_type": "code",
      "metadata": {
        "colab": {
          "base_uri": "https://localhost:8080/"
        },
        "id": "nyQI3OjsX9ko",
        "outputId": "7db14a61-ce47-43a0-ffd2-1353a1fed1e0"
      },
      "source": [
        "a = 5; b = 4.5\n",
        "isinstance(a, (int, float))\n"
      ],
      "execution_count": null,
      "outputs": [
        {
          "output_type": "execute_result",
          "data": {
            "text/plain": [
              "True"
            ]
          },
          "metadata": {
            "tags": []
          },
          "execution_count": 9
        }
      ]
    },
    {
      "cell_type": "code",
      "metadata": {
        "colab": {
          "base_uri": "https://localhost:8080/"
        },
        "id": "84ut1ZFzYIN5",
        "outputId": "e0159e5f-724a-4389-e579-c8410b092214"
      },
      "source": [
        "isinstance(b, (int, float))"
      ],
      "execution_count": null,
      "outputs": [
        {
          "output_type": "execute_result",
          "data": {
            "text/plain": [
              "True"
            ]
          },
          "metadata": {
            "tags": []
          },
          "execution_count": 10
        }
      ]
    },
    {
      "cell_type": "code",
      "metadata": {
        "colab": {
          "base_uri": "https://localhost:8080/"
        },
        "id": "JY5QFSgZYLXO",
        "outputId": "00f049e6-bfd8-4536-cdcc-0c84c7f38c86"
      },
      "source": [
        "a = 5; b = 4.5;print(a,b);print(b)\n"
      ],
      "execution_count": null,
      "outputs": [
        {
          "output_type": "stream",
          "text": [
            "5 4.5\n",
            "4.5\n"
          ],
          "name": "stdout"
        }
      ]
    },
    {
      "cell_type": "code",
      "metadata": {
        "id": "7LUW_ZWtYvqq"
      },
      "source": [
        "#such as lists, dicts, NumPy arrays, and most user-defined types (classes), are mutable\n",
        "a_list = ['foo', 2, [4, 5]]\n",
        "a_list[2] = (3, 4)\n",
        "a_list\n"
      ],
      "execution_count": null,
      "outputs": []
    },
    {
      "cell_type": "code",
      "metadata": {
        "id": "xAhWcCRAaiEN"
      },
      "source": [
        "#Others, like strings and tuples, are immutable:\n",
        "a_tuple = (3, 5, (4, 5))\n",
        "a_tuple[1] = 'four'      #kalau di run akan error\n"
      ],
      "execution_count": null,
      "outputs": []
    },
    {
      "cell_type": "code",
      "metadata": {
        "colab": {
          "base_uri": "https://localhost:8080/"
        },
        "id": "M-3_U0CBbvcd",
        "outputId": "d83eefc1-5440-4aa4-9c4e-6222774d3a71"
      },
      "source": [
        "ang1=1723\n",
        "ang1**3"
      ],
      "execution_count": null,
      "outputs": [
        {
          "output_type": "execute_result",
          "data": {
            "text/plain": [
              "5115120067"
            ]
          },
          "metadata": {
            "tags": []
          },
          "execution_count": 20
        }
      ]
    },
    {
      "cell_type": "code",
      "metadata": {
        "colab": {
          "base_uri": "https://localhost:8080/"
        },
        "id": "FGXugEiMcDsi",
        "outputId": "258b4fb7-d12d-42fd-af26-a436c29e35ea"
      },
      "source": [
        "#string\n",
        "a='cara pertama menuliskan kalimat'\n",
        "b=\"cara yang lain\"\n",
        "c='''\n",
        "ini cara panjang menuliskan sebuah kalimat\n",
        "dengan banyak baris\n",
        "'''\n",
        "print(a)\n",
        "print(b)\n",
        "print(c)"
      ],
      "execution_count": null,
      "outputs": [
        {
          "output_type": "stream",
          "text": [
            "cara pertama menuliskan kalimat\n",
            "cara yang lain\n",
            "\n",
            "ini cara panjang menuliskan sebuah kalimat\n",
            "dengan banyak baris\n",
            "\n"
          ],
          "name": "stdout"
        }
      ]
    },
    {
      "cell_type": "code",
      "metadata": {
        "colab": {
          "base_uri": "https://localhost:8080/"
        },
        "id": "ocwx6vJic_cc",
        "outputId": "bf26a47c-6192-4212-dda8-566f947a1761"
      },
      "source": [
        "c.count('\\n')"
      ],
      "execution_count": null,
      "outputs": [
        {
          "output_type": "execute_result",
          "data": {
            "text/plain": [
              "3"
            ]
          },
          "metadata": {
            "tags": []
          },
          "execution_count": 22
        }
      ]
    },
    {
      "cell_type": "code",
      "metadata": {
        "id": "FW8J4yAxdVL9"
      },
      "source": [
        "#string is immutable\n",
        "kata1='ini adalah kumpulan huruf'\n",
        "kata1[5]='f'    #akan error jika di run"
      ],
      "execution_count": null,
      "outputs": []
    },
    {
      "cell_type": "code",
      "metadata": {
        "id": "rQCwUIo_eMcN"
      },
      "source": [
        "kata1='ini adalah kumpulan huruf'\n",
        "kata2= kata1.replace('huruf','kata yang tergabung jadi 1 kalimat')\n",
        "print(kata1)\n",
        "print(kata2)"
      ],
      "execution_count": null,
      "outputs": []
    },
    {
      "cell_type": "code",
      "metadata": {
        "colab": {
          "base_uri": "https://localhost:8080/"
        },
        "id": "sdiqB7cQeSIz",
        "outputId": "87836e30-199e-4dba-933a-4113364840f1"
      },
      "source": [
        "ang2=5.6\n",
        "s=str(ang2)\n",
        "print(s)\n",
        "print(type(s))"
      ],
      "execution_count": null,
      "outputs": [
        {
          "output_type": "stream",
          "text": [
            "5.6\n",
            "<class 'str'>\n"
          ],
          "name": "stdout"
        }
      ]
    },
    {
      "cell_type": "code",
      "metadata": {
        "colab": {
          "base_uri": "https://localhost:8080/"
        },
        "id": "rb-w2vHuey4j",
        "outputId": "e386a03b-f47d-4bf6-e294-6ba0fe789104"
      },
      "source": [
        "type(kata2)"
      ],
      "execution_count": null,
      "outputs": [
        {
          "output_type": "execute_result",
          "data": {
            "text/plain": [
              "str"
            ]
          },
          "metadata": {
            "tags": []
          },
          "execution_count": 31
        }
      ]
    },
    {
      "cell_type": "code",
      "metadata": {
        "colab": {
          "base_uri": "https://localhost:8080/",
          "height": 52
        },
        "id": "4WOFp1EQf9OE",
        "outputId": "5f5e5ee9-9136-4784-afed-da2fc1549131"
      },
      "source": [
        "kata3='python'\n",
        "print(list(kata3))\n",
        "kata3[:3]"
      ],
      "execution_count": null,
      "outputs": [
        {
          "output_type": "stream",
          "text": [
            "['p', 'y', 't', 'h', 'o', 'n']\n"
          ],
          "name": "stdout"
        },
        {
          "output_type": "execute_result",
          "data": {
            "application/vnd.google.colaboratory.intrinsic+json": {
              "type": "string"
            },
            "text/plain": [
              "'pyt'"
            ]
          },
          "metadata": {
            "tags": []
          },
          "execution_count": 35
        }
      ]
    },
    {
      "cell_type": "code",
      "metadata": {
        "colab": {
          "base_uri": "https://localhost:8080/"
        },
        "id": "vv27mjSafdpe",
        "outputId": "590b8247-7c06-4730-d5c2-3948df7fc923"
      },
      "source": [
        "kata3='python'\n",
        "kata3=list(kata3)\n",
        "kata3[:3]\n"
      ],
      "execution_count": null,
      "outputs": [
        {
          "output_type": "execute_result",
          "data": {
            "text/plain": [
              "['p', 'y', 't']"
            ]
          },
          "metadata": {
            "tags": []
          },
          "execution_count": 33
        }
      ]
    },
    {
      "cell_type": "code",
      "metadata": {
        "colab": {
          "base_uri": "https://localhost:8080/"
        },
        "id": "U_d39Ha3g3KK",
        "outputId": "1abbc894-152f-494d-e18e-45c010949db6"
      },
      "source": [
        "s1='12\\\\34'   # \\untuk menyembunyikan spesial karakter\n",
        "s2='12\\n34'   # \\n sama dengan Enter pada saat penulisan kalimat.\n",
        "print(s1)\n",
        "print(s2)"
      ],
      "execution_count": null,
      "outputs": [
        {
          "output_type": "stream",
          "text": [
            "12/34\n",
            "12\n",
            "34\n"
          ],
          "name": "stdout"
        }
      ]
    },
    {
      "cell_type": "code",
      "metadata": {
        "colab": {
          "base_uri": "https://localhost:8080/",
          "height": 35
        },
        "id": "DmB2Zg65hlrU",
        "outputId": "95fef2c2-2c6a-4a88-da05-c98546810d3f"
      },
      "source": [
        "s3 = r'this\\has\\no\\special\\characters'\n",
        "s3"
      ],
      "execution_count": null,
      "outputs": [
        {
          "output_type": "execute_result",
          "data": {
            "application/vnd.google.colaboratory.intrinsic+json": {
              "type": "string"
            },
            "text/plain": [
              "'this\\\\has\\\\no\\\\special\\\\characters'"
            ]
          },
          "metadata": {
            "tags": []
          },
          "execution_count": 41
        }
      ]
    },
    {
      "cell_type": "code",
      "metadata": {
        "colab": {
          "base_uri": "https://localhost:8080/"
        },
        "id": "-VJ4VwEiivVA",
        "outputId": "183b2db7-df0a-42e4-e2c0-60213758e0c1"
      },
      "source": [
        "#kita dapat menggabungkan (concatenate) kata dengan menggunakan '+'\n",
        "s4='ini kata pertama '\n",
        "s5='dan ini kata kedua'\n",
        "s6=s4+s5\n",
        "print(s4)\n",
        "print(s5)\n",
        "print(s6)"
      ],
      "execution_count": null,
      "outputs": [
        {
          "output_type": "stream",
          "text": [
            "ini kata pertama \n",
            "dan ini kata kedua\n",
            "ini kata pertama dan ini kata kedua\n"
          ],
          "name": "stdout"
        }
      ]
    },
    {
      "cell_type": "code",
      "metadata": {
        "id": "draA3gBBj-NH"
      },
      "source": [
        "#format string\n",
        " template = \"(0:.2f) {1:s} are worth US${2:d}\"\n",
        " template\n"
      ],
      "execution_count": null,
      "outputs": []
    },
    {
      "cell_type": "code",
      "metadata": {
        "colab": {
          "base_uri": "https://localhost:8080/",
          "height": 35
        },
        "id": "us3rtMsfmfVD",
        "outputId": "3acaf58f-2a13-4939-8be2-5686723d76e8"
      },
      "source": [
        "'Sam has {red} red balls and {green} yellow balls'.format(red = 12, green = 31)"
      ],
      "execution_count": null,
      "outputs": [
        {
          "output_type": "execute_result",
          "data": {
            "application/vnd.google.colaboratory.intrinsic+json": {
              "type": "string"
            },
            "text/plain": [
              "'Sam has 12 red balls and 31 yellow balls'"
            ]
          },
          "metadata": {
            "tags": []
          },
          "execution_count": 47
        }
      ]
    },
    {
      "cell_type": "markdown",
      "metadata": {
        "id": "CNZS3PAL3UFw"
      },
      "source": [
        " Data Structures\n",
        " \n",
        " tuples, lists, dicts, and sets"
      ]
    },
    {
      "cell_type": "code",
      "metadata": {
        "colab": {
          "base_uri": "https://localhost:8080/"
        },
        "id": "Cqp_KI-u2KIr",
        "outputId": "3a809d92-3bd7-4e82-eeb0-59159628655b"
      },
      "source": [
        "#Tuple\n",
        "tup1=4,5,6\n",
        "tup1"
      ],
      "execution_count": null,
      "outputs": [
        {
          "output_type": "execute_result",
          "data": {
            "text/plain": [
              "(4, 5, 6)"
            ]
          },
          "metadata": {
            "tags": []
          },
          "execution_count": 1
        }
      ]
    },
    {
      "cell_type": "code",
      "metadata": {
        "colab": {
          "base_uri": "https://localhost:8080/"
        },
        "id": "3ocXE8y72oXE",
        "outputId": "29020c6d-aa2b-4a3c-a148-4184b6ef690c"
      },
      "source": [
        "tup2=(4,5,6),(7,8)\n",
        "tup2"
      ],
      "execution_count": null,
      "outputs": [
        {
          "output_type": "execute_result",
          "data": {
            "text/plain": [
              "((4, 5, 6), (7, 8))"
            ]
          },
          "metadata": {
            "tags": []
          },
          "execution_count": 2
        }
      ]
    },
    {
      "cell_type": "code",
      "metadata": {
        "colab": {
          "base_uri": "https://localhost:8080/"
        },
        "id": "6JtWkQOe24VK",
        "outputId": "93342010-054c-4dd2-aeb4-4d7ff7a5ff98"
      },
      "source": [
        "tup3=tuple([4, 0, 2])\n",
        "tup3"
      ],
      "execution_count": null,
      "outputs": [
        {
          "output_type": "execute_result",
          "data": {
            "text/plain": [
              "(4, 0, 2)"
            ]
          },
          "metadata": {
            "tags": []
          },
          "execution_count": 3
        }
      ]
    },
    {
      "cell_type": "code",
      "metadata": {
        "colab": {
          "base_uri": "https://localhost:8080/"
        },
        "id": "NpZRe1Q83zdN",
        "outputId": "672f4429-e6cc-4839-96e5-3905e71d8186"
      },
      "source": [
        "tup4 = tuple(('string'))\n",
        "tup4\n"
      ],
      "execution_count": null,
      "outputs": [
        {
          "output_type": "execute_result",
          "data": {
            "text/plain": [
              "('s', 't', 'r', 'i', 'n', 'g')"
            ]
          },
          "metadata": {
            "tags": []
          },
          "execution_count": 5
        }
      ]
    },
    {
      "cell_type": "code",
      "metadata": {
        "colab": {
          "base_uri": "https://localhost:8080/"
        },
        "id": "cw7pKlUj6EAN",
        "outputId": "3723c2bf-c6e8-4cd2-832e-3d7821098665"
      },
      "source": [
        "tup5 = tuple(['foo', [1, 2], True])\n",
        "print(tup5[0])\n"
      ],
      "execution_count": null,
      "outputs": [
        {
          "output_type": "stream",
          "text": [
            "foo\n"
          ],
          "name": "stdout"
        }
      ]
    },
    {
      "cell_type": "code",
      "metadata": {
        "colab": {
          "base_uri": "https://localhost:8080/"
        },
        "id": "CN-G0S1f87nO",
        "outputId": "9dd3bfa0-1a45-49ce-f2a1-a27371e549b9"
      },
      "source": [
        "tup5 = tuple(['foo', [1, 2], True])\n",
        "tup5[1].append(3)\n",
        "tup5\n"
      ],
      "execution_count": null,
      "outputs": [
        {
          "output_type": "execute_result",
          "data": {
            "text/plain": [
              "('foo', [1, 2, 3], True)"
            ]
          },
          "metadata": {
            "tags": []
          },
          "execution_count": 21
        }
      ]
    },
    {
      "cell_type": "code",
      "metadata": {
        "colab": {
          "base_uri": "https://localhost:8080/"
        },
        "id": "4g_oPCPt9kFA",
        "outputId": "66826cbd-5dab-470b-af3d-c3374978bc72"
      },
      "source": [
        "#kita dapat menggabungkan sesama tuple, dengan di jumlahkan\n",
        "(4, None, 'foo') + (6, 0) + ('bar',)"
      ],
      "execution_count": null,
      "outputs": [
        {
          "output_type": "execute_result",
          "data": {
            "text/plain": [
              "(4, None, 'foo', 6, 0, 'bar')"
            ]
          },
          "metadata": {
            "tags": []
          },
          "execution_count": 24
        }
      ]
    },
    {
      "cell_type": "code",
      "metadata": {
        "colab": {
          "base_uri": "https://localhost:8080/"
        },
        "id": "EEapgJ49-yPz",
        "outputId": "f39aa61d-c244-4137-af99-f27a00ccd33f"
      },
      "source": [
        "#multiplie tuple\n",
        "('foo', 'bar') * 4"
      ],
      "execution_count": null,
      "outputs": [
        {
          "output_type": "execute_result",
          "data": {
            "text/plain": [
              "('foo', 'bar', 'foo', 'bar', 'foo', 'bar', 'foo', 'bar')"
            ]
          },
          "metadata": {
            "tags": []
          },
          "execution_count": 25
        }
      ]
    },
    {
      "cell_type": "code",
      "metadata": {
        "colab": {
          "base_uri": "https://localhost:8080/"
        },
        "id": "S1x-Aqbt_yFx",
        "outputId": "225c7d07-0b16-481e-8c58-20d050faab09"
      },
      "source": [
        "#unpacking tuple\n",
        "tup7 = (4, 5, 6)\n",
        "a,b,c =tup7\n",
        "a"
      ],
      "execution_count": null,
      "outputs": [
        {
          "output_type": "execute_result",
          "data": {
            "text/plain": [
              "4"
            ]
          },
          "metadata": {
            "tags": []
          },
          "execution_count": 45
        }
      ]
    },
    {
      "cell_type": "code",
      "metadata": {
        "colab": {
          "base_uri": "https://localhost:8080/"
        },
        "id": "WcO6HCeKC737",
        "outputId": "98829915-b5e6-4ce6-c5fc-259d14d7f31c"
      },
      "source": [
        "tup7 = (4, 5, 6)\n",
        "a,b,c=tup7\n",
        "c"
      ],
      "execution_count": null,
      "outputs": [
        {
          "output_type": "execute_result",
          "data": {
            "text/plain": [
              "6"
            ]
          },
          "metadata": {
            "tags": []
          },
          "execution_count": 43
        }
      ]
    },
    {
      "cell_type": "code",
      "metadata": {
        "colab": {
          "base_uri": "https://localhost:8080/"
        },
        "id": "F9Q3oUG_BrZm",
        "outputId": "bf252101-13d4-4991-a70a-51be19901a9c"
      },
      "source": [
        "fruits = (\"apple\", \"banana\", \"cherry\")\n",
        "\n",
        "(green, yellow, red) = fruits\n",
        "print(green)\n"
      ],
      "execution_count": null,
      "outputs": [
        {
          "output_type": "stream",
          "text": [
            "apple\n"
          ],
          "name": "stdout"
        }
      ]
    },
    {
      "cell_type": "code",
      "metadata": {
        "colab": {
          "base_uri": "https://localhost:8080/"
        },
        "id": "JIPjIhatGQOH",
        "outputId": "46e2b09c-1580-4600-95b0-7836b44a6d89"
      },
      "source": [
        " seq = [(1, 2, 3), (4, 5, 6), (7, 8, 9)]\n",
        " for a, b, c in seq:\n",
        "   print('a={0}, b={1}, c={2}'.format(a, b, c))\n",
        "\n"
      ],
      "execution_count": null,
      "outputs": [
        {
          "output_type": "stream",
          "text": [
            "a=1, b=2, c=3\n",
            "a=4, b=5, c=6\n",
            "a=7, b=8, c=9\n"
          ],
          "name": "stdout"
        }
      ]
    },
    {
      "cell_type": "code",
      "metadata": {
        "colab": {
          "base_uri": "https://localhost:8080/"
        },
        "id": "GTSWLy3qG-Uf",
        "outputId": "74fa35e5-9df4-4334-b304-d1dc2ee38852"
      },
      "source": [
        "values = 1, 2, 3, 4, 5\n",
        "a, b, *c = values\n",
        "c"
      ],
      "execution_count": null,
      "outputs": [
        {
          "output_type": "execute_result",
          "data": {
            "text/plain": [
              "[3, 4, 5]"
            ]
          },
          "metadata": {
            "tags": []
          },
          "execution_count": 51
        }
      ]
    },
    {
      "cell_type": "code",
      "metadata": {
        "colab": {
          "base_uri": "https://localhost:8080/"
        },
        "id": "mUgV--aTHi4T",
        "outputId": "32d19ef8-b02a-4af4-82c7-ec0a9eab3663"
      },
      "source": [
        " a, b, *_ = values\n",
        " _"
      ],
      "execution_count": null,
      "outputs": [
        {
          "output_type": "execute_result",
          "data": {
            "text/plain": [
              "[3, 4, 5]"
            ]
          },
          "metadata": {
            "tags": []
          },
          "execution_count": 52
        }
      ]
    },
    {
      "cell_type": "code",
      "metadata": {
        "colab": {
          "base_uri": "https://localhost:8080/"
        },
        "id": "7asgN_XRHzL_",
        "outputId": "9e0bb2a3-7a86-4cd6-d8ca-f4e3c91e6d69"
      },
      "source": [
        " a = (1, 2, 2, 2, 3, 4, 2)\n",
        "a.count(2)"
      ],
      "execution_count": null,
      "outputs": [
        {
          "output_type": "execute_result",
          "data": {
            "text/plain": [
              "4"
            ]
          },
          "metadata": {
            "tags": []
          },
          "execution_count": 53
        }
      ]
    },
    {
      "cell_type": "markdown",
      "metadata": {
        "id": "tieJTNLmb9YN"
      },
      "source": [
        "#FORMATING STRING"
      ]
    },
    {
      "cell_type": "code",
      "metadata": {
        "id": "Lmyrs2rCcBNr"
      },
      "source": [
        ""
      ],
      "execution_count": null,
      "outputs": []
    }
  ]
}